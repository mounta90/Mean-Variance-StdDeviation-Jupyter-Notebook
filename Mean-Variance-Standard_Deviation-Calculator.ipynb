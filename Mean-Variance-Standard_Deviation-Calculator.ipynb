{
 "cells": [
  {
   "cell_type": "markdown",
   "metadata": {},
   "source": [
    "### Converting a list into a 3x3 numpy array"
   ]
  },
  {
   "cell_type": "code",
   "execution_count": 23,
   "metadata": {},
   "outputs": [],
   "source": [
    "import numpy as np\n",
    "import pandas as pd"
   ]
  },
  {
   "cell_type": "code",
   "execution_count": 24,
   "metadata": {},
   "outputs": [],
   "source": [
    "list = [0,1,2,3,4,5,6,7,8]"
   ]
  },
  {
   "cell_type": "code",
   "execution_count": 25,
   "metadata": {},
   "outputs": [],
   "source": [
    "mat_3x3 = np.array(list).reshape(3,3)\n",
    "mat_flat = np.array(list)"
   ]
  },
  {
   "cell_type": "code",
   "execution_count": 26,
   "metadata": {},
   "outputs": [
    {
     "name": "stdout",
     "output_type": "stream",
     "text": [
      "[[0 1 2]\n",
      " [3 4 5]\n",
      " [6 7 8]]\n"
     ]
    }
   ],
   "source": [
    "print(mat_3x3)"
   ]
  },
  {
   "cell_type": "markdown",
   "metadata": {},
   "source": [
    "### Output the mean, variance, standard deviation, max, min, and sum of the rows, columns, and elements in a 3 x 3 matrix."
   ]
  },
  {
   "cell_type": "code",
   "execution_count": 27,
   "metadata": {},
   "outputs": [
    {
     "data": {
      "text/plain": [
       "3.0"
      ]
     },
     "execution_count": 27,
     "metadata": {},
     "output_type": "execute_result"
    }
   ],
   "source": [
    "mat_3x3[:, 0].mean()"
   ]
  },
  {
   "cell_type": "code",
   "execution_count": 28,
   "metadata": {},
   "outputs": [
    {
     "data": {
      "text/plain": [
       "4.0"
      ]
     },
     "execution_count": 28,
     "metadata": {},
     "output_type": "execute_result"
    }
   ],
   "source": [
    "mat_3x3[:, 1].mean()"
   ]
  },
  {
   "cell_type": "code",
   "execution_count": 29,
   "metadata": {},
   "outputs": [
    {
     "data": {
      "text/plain": [
       "5.0"
      ]
     },
     "execution_count": 29,
     "metadata": {},
     "output_type": "execute_result"
    }
   ],
   "source": [
    "mat_3x3[:, -1].mean()"
   ]
  },
  {
   "cell_type": "markdown",
   "metadata": {},
   "source": [
    "### Use a for loop to automate mean calculation across axis (The 3 above cells)"
   ]
  },
  {
   "cell_type": "code",
   "execution_count": 39,
   "metadata": {},
   "outputs": [
    {
     "name": "stdout",
     "output_type": "stream",
     "text": [
      "[3.0, 4.0, 5.0]\n",
      "[1.0, 4.0, 7.0]\n",
      "4.0\n"
     ]
    }
   ],
   "source": [
    "mat_3x3_rows = mat_3x3.shape[0]\n",
    "mat_3x3_cols = mat_3x3.shape[1]\n",
    "\n",
    "axis1_mean = []  #column\n",
    "axis2_mean = []  #row\n",
    "flattened_mean = []  #flat\n",
    "\n",
    "for i in range(mat_3x3_rows):                  # mean of columns of 3x3 matrix\n",
    "    axis1_mean.append(mat_3x3[:, i].mean())\n",
    "\n",
    "for i in range(mat_3x3_cols):                  # mean of rows of 3x3 matrix\n",
    "    axis2_mean.append(mat_3x3[i, :].mean())\n",
    "    \n",
    "flattened_mean = mat_flat.mean()               # mean of initial flattened matrix\n",
    "    \n",
    "    \n",
    "print(axis1_mean)\n",
    "print(axis2_mean)\n",
    "print(flattened_mean)"
   ]
  },
  {
   "cell_type": "markdown",
   "metadata": {},
   "source": [
    "### Now it's Variance"
   ]
  },
  {
   "cell_type": "code",
   "execution_count": 35,
   "metadata": {},
   "outputs": [
    {
     "name": "stdout",
     "output_type": "stream",
     "text": [
      "[6.0, 6.0, 6.0]\n",
      "[0.6666666666666666, 0.6666666666666666, 0.6666666666666666]\n",
      "6.666666666666667\n"
     ]
    }
   ],
   "source": [
    "axis1_var = []\n",
    "axis2_var = []\n",
    "flattened_var = []\n",
    "\n",
    "for i in range(mat_3x3_cols):               #variance for each column\n",
    "    axis1_var.append(mat_3x3[:, i].var())\n",
    "    \n",
    "for i in range(mat_3x3_rows):               #variance for each row\n",
    "    axis2_var.append(mat_3x3[i, :].var())\n",
    "    \n",
    "flattened_var = mat_flat.var()\n",
    "\n",
    "print(axis1_var)\n",
    "print(axis2_var)\n",
    "print(flattened_variance)"
   ]
  },
  {
   "cell_type": "markdown",
   "metadata": {},
   "source": [
    "### Standard Deviation"
   ]
  },
  {
   "cell_type": "code",
   "execution_count": 41,
   "metadata": {},
   "outputs": [
    {
     "name": "stdout",
     "output_type": "stream",
     "text": [
      "[2.449489742783178, 2.449489742783178, 2.449489742783178]\n",
      "[0.816496580927726, 0.816496580927726, 0.816496580927726]\n",
      "2.581988897471611\n"
     ]
    }
   ],
   "source": [
    "axis1_std = []\n",
    "axis2_std = []\n",
    "flattened_std = []\n",
    "\n",
    "for i in range(mat_3x3_cols):\n",
    "    axis1_std.append(mat_3x3[:, i].std())\n",
    "    \n",
    "for i in range(mat_3x3_rows):\n",
    "    axis2_std.append(mat_3x3[i, :].std())\n",
    "    \n",
    "flattened_std = mat_flat.std()    \n",
    "    \n",
    "print(axis1_std)\n",
    "print(axis2_std)\n",
    "print(flattened_std)"
   ]
  },
  {
   "cell_type": "markdown",
   "metadata": {},
   "source": [
    "### Max"
   ]
  },
  {
   "cell_type": "code",
   "execution_count": 43,
   "metadata": {},
   "outputs": [
    {
     "name": "stdout",
     "output_type": "stream",
     "text": [
      "[6, 7, 8]\n",
      "[2, 5, 8]\n",
      "8\n"
     ]
    }
   ],
   "source": [
    "axis1_max = []\n",
    "axis2_max = []\n",
    "flattened_max = []\n",
    "\n",
    "for i in range(mat_3x3_cols):\n",
    "    axis1_max.append(mat_3x3[:, i].max())\n",
    "    \n",
    "for i in range(mat_3x3_rows):\n",
    "    axis2_max.append(mat_3x3[i, :].max())\n",
    "    \n",
    "flattened_max = mat_flat.max()\n",
    "\n",
    "print(axis1_max)\n",
    "print(axis2_max)\n",
    "print(flattened_max)"
   ]
  },
  {
   "cell_type": "markdown",
   "metadata": {},
   "source": [
    "### Min"
   ]
  },
  {
   "cell_type": "code",
   "execution_count": 45,
   "metadata": {},
   "outputs": [
    {
     "name": "stdout",
     "output_type": "stream",
     "text": [
      "[0, 1, 2]\n",
      "[0, 3, 6]\n",
      "0\n"
     ]
    }
   ],
   "source": [
    "axis1_min = []\n",
    "axis2_min = []\n",
    "flattened_min = []\n",
    "\n",
    "for i in range(mat_3x3_cols):\n",
    "    axis1_min.append(mat_3x3[:, i].min())\n",
    "    \n",
    "for i in range(mat_3x3_rows):\n",
    "    axis2_min.append(mat_3x3[i, :].min())\n",
    "    \n",
    "flattened_min = mat_flat.min()\n",
    "\n",
    "print(axis1_min)\n",
    "print(axis2_min)\n",
    "print(flattened_min)"
   ]
  },
  {
   "cell_type": "markdown",
   "metadata": {},
   "source": [
    "### Sum"
   ]
  },
  {
   "cell_type": "code",
   "execution_count": 46,
   "metadata": {},
   "outputs": [
    {
     "name": "stdout",
     "output_type": "stream",
     "text": [
      "[9, 12, 15]\n",
      "[3, 12, 21]\n",
      "36\n"
     ]
    }
   ],
   "source": [
    "axis1_sum = []\n",
    "axis2_sum = []\n",
    "flattened_sum = []\n",
    "\n",
    "for i in range(mat_3x3_cols):\n",
    "    axis1_sum.append(mat_3x3[:, i].sum())\n",
    "    \n",
    "for i in range(mat_3x3_rows):\n",
    "    axis2_sum.append(mat_3x3[i, :].sum())\n",
    "    \n",
    "flattened_sum = mat_flat.sum()\n",
    "\n",
    "print(axis1_sum)\n",
    "print(axis2_sum)\n",
    "print(flattened_sum)"
   ]
  }
 ],
 "metadata": {
  "kernelspec": {
   "display_name": "Python 3",
   "language": "python",
   "name": "python3"
  },
  "language_info": {
   "codemirror_mode": {
    "name": "ipython",
    "version": 3
   },
   "file_extension": ".py",
   "mimetype": "text/x-python",
   "name": "python",
   "nbconvert_exporter": "python",
   "pygments_lexer": "ipython3",
   "version": "3.8.5"
  }
 },
 "nbformat": 4,
 "nbformat_minor": 4
}
